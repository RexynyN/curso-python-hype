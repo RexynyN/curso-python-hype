{
 "cells": [
  {
   "cell_type": "markdown",
   "metadata": {},
   "source": [
    "In this exercise, you have to analyze records of temperature to find the closest to zero.\n",
    " \n",
    "  \n",
    "Sample temperatures. Here, -1 is the closest to 0.\n",
    "\n",
    "![Alt text](temp_fr.png)\n",
    "\n",
    "Implement the function compute_closest_to_zero(ts) which takes an array of temperatures ts and returns the temperature closest to 0.\n",
    " \n",
    " \n",
    "Constraints:\n",
    "If the array is empty, the function should return 0\n",
    "0 ≤ ts size ≤ 10000\n",
    "If two temperatures are equally close to zero, the positive temperature must be returned. For example, if the input is -5 and 5, then 5 must be returned."
   ]
  },
  {
   "cell_type": "code",
   "execution_count": 2,
   "metadata": {},
   "outputs": [
    {
     "data": {
      "text/plain": [
       "7"
      ]
     },
     "execution_count": 2,
     "metadata": {},
     "output_type": "execute_result"
    }
   ],
   "source": [
    "def compute_closest_to_zero(ts: list):\n",
    "    if len(ts) == 0:\n",
    "        return 0\n",
    "\n",
    "    least = ts[0]\n",
    "    for t in ts:\n",
    "        dist = abs(t)\n",
    "        if dist <= abs(least) :\n",
    "            least = t if dist < abs(least) or (t > 0 and dist == abs(least)) else least\n",
    "    \n",
    "    # Write your code here\n",
    "    # To debug: print(\"Debug messages...\", file=sys.stderr, flush=True)\n",
    "    return least\n",
    "\n",
    "compute_closest_to_zero([7, 5, 9, 1, 4]) # 1\n",
    "compute_closest_to_zero([-15 -7 -9 -14 -12]) # -7\n",
    "compute_closest_to_zero([-10, -10]) # -10\n",
    "compute_closest_to_zero([15, -7, 9, 14, 7, 12]) # 7"
   ]
  },
  {
   "cell_type": "code",
   "execution_count": 14,
   "metadata": {},
   "outputs": [
    {
     "data": {
      "text/plain": [
       "(10.583005244258363, 0.4)"
      ]
     },
     "execution_count": 14,
     "metadata": {},
     "output_type": "execute_result"
    }
   ],
   "source": [
    "# The cosine similarity and euclidean distance functions are incorrect.\n",
    "# Please fix the body of the two functions cosine() and euclidean().\n",
    "import numpy as np\n",
    "\n",
    "def cosine(vector1, vector2):\n",
    "\treturn np.dot(vector1, vector2) / (np.linalg.norm(vector1) * np.linalg.norm(vector2))\n",
    "\n",
    "def euclidean(vector1, vector2):\n",
    "    temp = vector1 - vector2\n",
    "    return np.sqrt(np.dot(temp.T, temp))\n",
    "\n",
    "a = np.array([1, 2, 3, 4, 5, 6, 7])\n",
    "b = np.array([7, 6, 5, 4, 3, 2, 1])\n",
    "\n",
    "euclidean(a, b), cosine(a, b)"
   ]
  },
  {
   "cell_type": "code",
   "execution_count": null,
   "metadata": {},
   "outputs": [],
   "source": [
    "def multiple(num, exp):\n",
    "    return num % exp == 0 \n",
    "\n",
    "def compute_multiples_sum(n):\n",
    "    # To debug: print(\"Debug messages...\", file=sys.stderr, flush=True)\n",
    "\n",
    "    sum = 0\n",
    "    for num in range(n):\n",
    "        print(sum, file=sys.stderr, flush=True)\n",
    "        if num == 0:\n",
    "            continue\n",
    "\n",
    "        if multiple(num, 3) or multiple(num, 5) or multiple(num, 7):\n",
    "            sum += num\n",
    "            \n",
    "       \n",
    "    return sum\n",
    "\n"
   ]
  },
  {
   "cell_type": "code",
   "execution_count": null,
   "metadata": {},
   "outputs": [],
   "source": [
    "import os\n",
    "for root, dirs, files in os.walk(\".\", topdown=False):\n",
    "   for name in files:\n",
    "      print(os.path.join(root, name))\n",
    "   for name in dirs:\n",
    "      print(os.path.join(root, name))"
   ]
  },
  {
   "cell_type": "code",
   "execution_count": null,
   "metadata": {},
   "outputs": [],
   "source": [
    "def closest_to_zero(ints):\n",
    "    if not ints:\n",
    "        return 0 \n",
    "    # Your code goes here\n",
    "    least = ints[0]\n",
    "    least_dist = abs(least)\n",
    "    for num in ints:\n",
    "        dist = abs(num)\n",
    "\n",
    "        if dist <= least_dist:\n",
    "            least = num if dist < least_dist or (num > 0 and dist == least_dist) else least\n",
    "            least_dist = abs(least)\n",
    "        \n",
    "    return least\n"
   ]
  },
  {
   "cell_type": "code",
   "execution_count": null,
   "metadata": {},
   "outputs": [],
   "source": [
    "def find_smallest_interval(numbers):\n",
    "    # To debug: print(\"Debug messages...\", file=sys.stderr, flush=True)\n",
    "\n",
    "    smallest = 1000000000\n",
    "    for i in numbers:\n",
    "        for j in numbers:\n",
    "            if i == j:\n",
    "                continue\n",
    "            dist = abs(i - j)\n",
    "            if dist < smallest:\n",
    "                smallest = dist\n",
    "\n",
    "    return smallest"
   ]
  },
  {
   "cell_type": "code",
   "execution_count": null,
   "metadata": {},
   "outputs": [],
   "source": [
    "def encode(plain_text):\n",
    "    print(plain_text)\n",
    "    curr = \"\"\n",
    "    count = 0\n",
    "    string = \"\"\n",
    "    for index, char in enumerate(plain_text):\n",
    "        curr = char\n",
    "        count += 1\n",
    "\n",
    "        try:\n",
    "            next = plain_text[index + 1] \n",
    "        except:\n",
    "            next = \"\"\n",
    "\n",
    "        if next != curr:\n",
    "            string += f\"{count}{curr}\"\n",
    "            count = 0\n",
    "\n",
    "\n",
    "    return string\n",
    "\n",
    "\n",
    "encode(\"aabaa\")\n",
    "encode(\"abcdefghijklmnopqrstuvwxyzzzz\")"
   ]
  },
  {
   "cell_type": "code",
   "execution_count": null,
   "metadata": {},
   "outputs": [],
   "source": [
    "from math import sqrt\n",
    "\n",
    "def min_max_scaler(values):\n",
    "    minvalue = min(values)\n",
    "    denominator = max(values) - minvalue\n",
    "    values_normalized = []\n",
    "    for value in values:\n",
    "        values_normalized.append((value - minvalue) / denominator)\n",
    "    return values_normalized\n",
    "\n",
    "def standardize(values):\n",
    "    length_values = len(values)\n",
    "    meanvalue = sum(values)/length_values\n",
    "    diffs = [value - meanvalue for value in values]\n",
    "    std = sqrt(sum([diff**2 for diff in diffs]) / length_values)\n",
    "    values_standardized = []\n",
    "    for value in values:\n",
    "        values_standardized.append((value - meanvalue) / std)\n",
    "    return values_standardized"
   ]
  },
  {
   "cell_type": "code",
   "execution_count": null,
   "metadata": {},
   "outputs": [],
   "source": [
    "import random \n",
    "\n",
    "def pi_approx(pts):\n",
    "    ins = [point for point in pts if point[0]**2 + point[1]**2 <= 1]\n",
    "    prob = len(ins) / len(pts)\n",
    "    pi = prob * 4\n",
    "    return pi\n",
    "\n",
    "\n",
    "\n",
    "rands = []\n",
    "for i in range(0, 100000):\n",
    "    arr = [random.random(), random.random()]\n",
    "    rands.append(arr)\n",
    "\n",
    "print(pi_approx(rands))"
   ]
  },
  {
   "cell_type": "code",
   "execution_count": null,
   "metadata": {},
   "outputs": [],
   "source": [
    "def factorial(n):\n",
    "    if n == 0:\n",
    "        return 1\n",
    "    else:\n",
    "        return n * factorial(n - 1)\n"
   ]
  },
  {
   "cell_type": "code",
   "execution_count": null,
   "metadata": {},
   "outputs": [],
   "source": [
    "from math import factorial as f\n",
    "def count(n):\n",
    "    # count = 0\n",
    "    # for i in range(n):\n",
    "    #     n -= 1\n",
    "    #     for j in range(n):\n",
    "    #         count += 1\n",
    "\n",
    "    # Or you could, y'know... make a combination formula :D\n",
    "\n",
    "    count = f(n) / (f(2) * f(n - 2))\n",
    "    return int(count)\n"
   ]
  }
 ],
 "metadata": {
  "kernelspec": {
   "display_name": "Python 3",
   "language": "python",
   "name": "python3"
  },
  "language_info": {
   "codemirror_mode": {
    "name": "ipython",
    "version": 3
   },
   "file_extension": ".py",
   "mimetype": "text/x-python",
   "name": "python",
   "nbconvert_exporter": "python",
   "pygments_lexer": "ipython3",
   "version": "3.10.12"
  },
  "orig_nbformat": 4
 },
 "nbformat": 4,
 "nbformat_minor": 2
}
