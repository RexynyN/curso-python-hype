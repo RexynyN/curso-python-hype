{
 "cells": [
  {
   "cell_type": "markdown",
   "metadata": {},
   "source": [
    "In this exercise, you have to analyze records of temperature to find the closest to zero.\n",
    " \n",
    "  \n",
    "Sample temperatures. Here, -1 is the closest to 0.\n",
    "\n",
    "![Alt text](temp_fr.png)\n",
    "\n",
    "Implement the function compute_closest_to_zero(ts) which takes an array of temperatures ts and returns the temperature closest to 0.\n",
    " \n",
    " \n",
    "Constraints:\n",
    "If the array is empty, the function should return 0\n",
    "0 ≤ ts size ≤ 10000\n",
    "If two temperatures are equally close to zero, the positive temperature must be returned. For example, if the input is -5 and 5, then 5 must be returned."
   ]
  },
  {
   "cell_type": "code",
   "execution_count": 2,
   "metadata": {},
   "outputs": [
    {
     "data": {
      "text/plain": [
       "7"
      ]
     },
     "execution_count": 2,
     "metadata": {},
     "output_type": "execute_result"
    }
   ],
   "source": [
    "def compute_closest_to_zero(ts: list):\n",
    "    if len(ts) == 0:\n",
    "        return 0\n",
    "\n",
    "    least = ts[0]\n",
    "    for t in ts:\n",
    "        dist = abs(t)\n",
    "        if dist <= abs(least) :\n",
    "            least = t if dist < abs(least) or (t > 0 and dist == abs(least)) else least\n",
    "    \n",
    "    # Write your code here\n",
    "    # To debug: print(\"Debug messages...\", file=sys.stderr, flush=True)\n",
    "    return least\n",
    "\n",
    "compute_closest_to_zero([7, 5, 9, 1, 4]) # 1\n",
    "compute_closest_to_zero([-15 -7 -9 -14 -12]) # -7\n",
    "compute_closest_to_zero([-10, -10]) # -10\n",
    "compute_closest_to_zero([15, -7, 9, 14, 7, 12]) # 7"
   ]
  },
  {
   "cell_type": "code",
   "execution_count": 14,
   "metadata": {},
   "outputs": [
    {
     "data": {
      "text/plain": [
       "(10.583005244258363, 0.4)"
      ]
     },
     "execution_count": 14,
     "metadata": {},
     "output_type": "execute_result"
    }
   ],
   "source": [
    "# The cosine similarity and euclidean distance functions are incorrect.\n",
    "# Please fix the body of the two functions cosine() and euclidean().\n",
    "import numpy as np\n",
    "\n",
    "def cosine(vector1, vector2):\n",
    "\treturn np.dot(vector1, vector2) / (np.linalg.norm(vector1) * np.linalg.norm(vector2))\n",
    "\n",
    "def euclidean(vector1, vector2):\n",
    "    temp = vector1 - vector2\n",
    "    return np.sqrt(np.dot(temp.T, temp))\n",
    "\n",
    "a = np.array([1, 2, 3, 4, 5, 6, 7])\n",
    "b = np.array([7, 6, 5, 4, 3, 2, 1])\n",
    "\n",
    "euclidean(a, b), cosine(a, b)"
   ]
  },
  {
   "cell_type": "code",
   "execution_count": null,
   "metadata": {},
   "outputs": [],
   "source": []
  }
 ],
 "metadata": {
  "kernelspec": {
   "display_name": "Python 3",
   "language": "python",
   "name": "python3"
  },
  "language_info": {
   "codemirror_mode": {
    "name": "ipython",
    "version": 3
   },
   "file_extension": ".py",
   "mimetype": "text/x-python",
   "name": "python",
   "nbconvert_exporter": "python",
   "pygments_lexer": "ipython3",
   "version": "3.10.12"
  },
  "orig_nbformat": 4
 },
 "nbformat": 4,
 "nbformat_minor": 2
}
