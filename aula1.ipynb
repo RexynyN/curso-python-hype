{
 "cells": [
  {
   "attachments": {},
   "cell_type": "markdown",
   "metadata": {},
   "source": [
    "Uma pequena pausa para uma oração antes de nossa codificação"
   ]
  },
  {
   "cell_type": "code",
   "execution_count": null,
   "metadata": {},
   "outputs": [],
   "source": [
    "import this"
   ]
  },
  {
   "cell_type": "markdown",
   "metadata": {},
   "source": [
    "Traduzindo para as terras tupiniquins, temos:"
   ]
  },
  {
   "cell_type": "code",
   "execution_count": null,
   "metadata": {},
   "outputs": [],
   "source": [
    "\"\"\"\n",
    "O Zen do Python, por Tim Peters\n",
    "\n",
    "Belo é melhor do que feio.\n",
    "Explícito é melhor do que implícito.\n",
    "Simples é melhor do que complexo.\n",
    "Complexo é melhor do que complicado. \n",
    "Linear é melhor do que aninhado.\n",
    "Esparso é melhor do que denso. \n",
    "Legibilidade é importante.\n",
    "Casos especiais não são especiais o suficiente para quebrar as regras.\n",
    "Mesmo que praticidade ganhe da pureza. \n",
    "Erros nunca deverão passar silenciosamente. \n",
    "A não ser que explicitamente silenciados.\n",
    "Em face da ambiguidade, negue a tentação de adivinhar.\n",
    "Deve haver um-- e preferencialmente apenas um --modo óbvio de ser fazer.\n",
    "Embora esse caminho possa não ser óbvio a princípio, a menos que você seja holandês.\n",
    "Agora é melhor do que nunca.\n",
    "Embora nunca é geralmente melhor do que *exatamente* agora.\n",
    "Se a implementação é díficil de explicar, é uma ideia ruim.\n",
    "Se a implementação é fácil de explicar, pode ser uma boa ideia.\n",
    "Namespaces são uma ideia do caramba-- vamos fazer mais deles!\n",
    "\"\"\";"
   ]
  },
  {
   "attachments": {},
   "cell_type": "markdown",
   "metadata": {},
   "source": [
    "## Parte 1: O Beabá do Python"
   ]
  },
  {
   "attachments": {},
   "cell_type": "markdown",
   "metadata": {},
   "source": [
    "Para o nosso primeiro código, vamos para o clássico Hello World. Que em Python é literalmente uma linha. Não precisa encapsular em uma função como em C ou criar uma classe inteira só pra escrever no console como em Java, só uma função no escopo global e vamo que vamo!"
   ]
  },
  {
   "cell_type": "code",
   "execution_count": null,
   "metadata": {},
   "outputs": [],
   "source": [
    "print(\"Hello, World!\")"
   ]
  },
  {
   "attachments": {},
   "cell_type": "markdown",
   "metadata": {},
   "source": [
    "\n",
    "Pra gente instanciar uma variável em C e em Java, a gente faz algo mais ou menos assim né? \n",
    "\n",
    "```\n",
    "int numero = 42;\n",
    "String string = \"Hello, World!\"\n",
    "int [] lista = { 1, 2, 3, 4 } \n",
    "```\n",
    "\n",
    "Em python é mais fácil, uma vez que é uma linguagem de **Tipagem Dinâmica**, isso é, você não precisa dizer explicitamente qual \n",
    "o tipo da variável, porque o interpretador vai fazer isso por você."
   ]
  },
  {
   "cell_type": "code",
   "execution_count": null,
   "metadata": {},
   "outputs": [],
   "source": [
    "numero = 42\n",
    "string = \"Hello, World!\"\n",
    "lista = [1, 2, 3, 4]\n",
    "\n",
    "# O print() aceita qualquer tipo de dado!\n",
    "print(numero, \" - \", string, \" - \", lista)"
   ]
  },
  {
   "attachments": {},
   "cell_type": "markdown",
   "metadata": {},
   "source": [
    "Mas se quiser ter *absoluta* certeza do tipo da váriavel, você pode passá-la para um função de conversão:"
   ]
  },
  {
   "cell_type": "code",
   "execution_count": null,
   "metadata": {},
   "outputs": [],
   "source": [
    "nao_numero = int(\"10\")\n",
    "numero = int(10)  \n",
    "\n",
    "# São do mesmo tipo\n",
    "print(nao_numero + numero) \n",
    "\n",
    "# Você pode fazer isso com vários tipos de dados\n",
    "str() # Para Strings\n",
    "float() # Para floats (números reais)\n",
    "list() # Para listas\n",
    "tuple(); # Para tuplas"
   ]
  },
  {
   "attachments": {},
   "cell_type": "markdown",
   "metadata": {},
   "source": [
    "Ou ainda pode também checar o tipo da váriavel (mas geralmente uma boa estrutura de código e nome de váriavel já diz qual o tipo dela)"
   ]
  },
  {
   "cell_type": "code",
   "execution_count": null,
   "metadata": {},
   "outputs": [],
   "source": [
    "# Você consegue instanciar várias variáveis em uma linha!\n",
    "string, numero, numero_real = \"Python é Maneiro!\", 42, 35.98\n",
    "\n",
    "type(string), type(numero), type(numero_real)"
   ]
  },
  {
   "cell_type": "markdown",
   "metadata": {},
   "source": [
    "Esses são os tipos de dados mais usados no dia a dia codando em Python (e o que iremos focar no nosso curso.)"
   ]
  },
  {
   "cell_type": "code",
   "execution_count": null,
   "metadata": {},
   "outputs": [],
   "source": [
    "from pprint import pprint\n",
    "\n",
    "# String de texto\n",
    "string = \"Oi Pessoal!\"\n",
    "\n",
    "# Número inteiro\n",
    "inteiro = 42\n",
    "\n",
    "# Número de ponto flutuante\n",
    "flutuante = 42.24\n",
    "\n",
    "# Lista de elementos\n",
    "lista = [\"Oi Pessoal\", 42, 42.24]\n",
    "\n",
    "# Tupla (lista de elementos imutável)\n",
    "tupla = (\"Oi Pessoal\", 42, 42.24)\n",
    "\n",
    "# Intervalo de valores\n",
    "intervalo = range(10)\n",
    "\n",
    "print(\"Intervalo:\")\n",
    "for i in intervalo:\n",
    "    print(i, end=\" \")\n",
    "print(\"\\n\")\n",
    "\n",
    "# Dicionário (lista de elementos com índices não-inteiros)\n",
    "dicio = {\n",
    "    \"string\": \"Oi Pessoal\",\n",
    "    \"inteiro\": 42,\n",
    "    \"flutuante\": 42.24,\n",
    "    \"lista\": [\"Oi Pessoal\", 42, 42.24]\n",
    "}\n",
    "\n",
    "print(\"Dicionário:\")\n",
    "pprint(dicio)\n",
    "print(\"\\nÍndice [\\\"string\\\"]:\", dicio[\"string\"])\n",
    "\n",
    "# Booleanos \n",
    "bool_true, bool_false = True, False\n",
    "\n",
    "# Valor Nulo (None)\n",
    "nulo = None\n",
    "\n",
    "# Outros que não iremos usar aqui, mas é legal saber que existem:\n",
    "# Complex (números complexos)\n",
    "# Set (conjunto de elementos sem repetição)\n",
    "# Bytes\n",
    "# ByteArray (array de bytes)"
   ]
  },
  {
   "attachments": {},
   "cell_type": "markdown",
   "metadata": {},
   "source": [
    "Como toda boa linguagem de programação, temos os operadores aritméticos comuns como: adição, substração, multiplicação, divisão, etc."
   ]
  },
  {
   "cell_type": "code",
   "execution_count": null,
   "metadata": {},
   "outputs": [],
   "source": [
    "a, b = 3, 2\n",
    "\n",
    "# Não se preocupe com o \"f\" na frente da string, vamos falar disso mais para frente\n",
    "print(f\"{a} + {b} = \", a + b)   # Adição\n",
    "print(f\"{a} - {b} = \", a - b)   # Subtração\n",
    "print(f\"{a} * {b} = \", a * b)   # Multiplicação\n",
    "print(f\"{a} / {b} = \", a / b)   # Divisão\n",
    "print(f\"{a} // {b} = \", a // b) # Divisão com arredondamento para baixo (pode ser usado também com a função math.floor(<equação>))\n",
    "print(f\"{a} ** {b} = \", a ** b) # Exponenciação (pode ser usado também com a função math.pow())\n",
    "print(f\"{a} % {b} = \", a % b)   # Módulo"
   ]
  },
  {
   "cell_type": "markdown",
   "metadata": {},
   "source": [
    "Também temos o operador de autoreferência em operações no python, porém por questões de design de linguagem, não temos o famoso operador de autoincremento \"a++\" ou \"a--\"."
   ]
  },
  {
   "cell_type": "code",
   "execution_count": null,
   "metadata": {},
   "outputs": [],
   "source": [
    "a, b = 3, 2\n",
    "\n",
    "# Equivalente => a = a + b\n",
    "a += b \n",
    "a -= b\n",
    "a *= b\n",
    "a /= b\n",
    "# a //= b | a **= b | a %= b"
   ]
  },
  {
   "attachments": {},
   "cell_type": "markdown",
   "metadata": {},
   "source": [
    "Assim como nós podemos usar esses operadores em números, alguns deles nós podemos usar em textos"
   ]
  },
  {
   "cell_type": "code",
   "execution_count": null,
   "metadata": {},
   "outputs": [],
   "source": [
    "str1, str2, str3 = \"Python \", \"é \", \"Maneiro!\"\n",
    "\n",
    "print(str1 + str2 + str3)    # Concatenação de Strings (Só funciona se todos os operandos forem string!)\n",
    "print(str1 * 3)              # Repetição de string (Um dos operandos tem de ser um número inteiro!)\n",
    "print(\"%sé maneiro\" % str1)  # Formatação de String (vamos ver outros exemplos mais para frente)"
   ]
  },
  {
   "attachments": {},
   "cell_type": "markdown",
   "metadata": {},
   "source": [
    "Podemos usar em listas também!"
   ]
  },
  {
   "cell_type": "code",
   "execution_count": null,
   "metadata": {},
   "outputs": [],
   "source": [
    "lista1, lista2 = [1, 2, 3], [4, 5, 6]\n",
    "\n",
    "print(lista1 + lista2) # Concatenação de Listas (Só funciona se todos os operandos forem uma lista!)\n",
    "print(lista1 * 3)      # Repetição de Lista (Um dos operandos tem de ser um número inteiro!)"
   ]
  },
  {
   "cell_type": "markdown",
   "metadata": {},
   "source": [
    "Uma das partes mais importantes de um programa é receber informações do usuário, e em Python é tão fácil quanto chamar uma função:"
   ]
  },
  {
   "cell_type": "code",
   "execution_count": null,
   "metadata": {},
   "outputs": [],
   "source": [
    "nome = input(\"Nome do programador: \")\n",
    "print(\"Olá, eu sou o(a)\", nome, \"e estou aprendendo Python!\")"
   ]
  },
  {
   "cell_type": "markdown",
   "metadata": {},
   "source": [
    "A função input() retorna as informações digitadas pelo usuário em forma de string, porém com as funções de conversão o valor pode ser transformado em números, listas, etc"
   ]
  },
  {
   "cell_type": "code",
   "execution_count": null,
   "metadata": {},
   "outputs": [],
   "source": [
    "print(\"Formulário de Aluno\")\n",
    "\n",
    "nome = input(\"Nome do Candidato: \")\n",
    "idade = int(input(\"Idade do Candidato: \"))\n",
    "interesses = input(\"Interesses (separados por vírgula): \").split(\",\")\n",
    "\n",
    "print(\"Nome:\", nome)\n",
    "print(\"Idade daqui a um ano:\", (idade + 1))\n",
    "print(\"Interesses:\")\n",
    "for materia in interesses:\n",
    "    print(\"\\t->\", materia.strip())\n"
   ]
  },
  {
   "cell_type": "markdown",
   "metadata": {},
   "source": [
    "# Parte 2: Condicionais"
   ]
  },
  {
   "cell_type": "markdown",
   "metadata": {},
   "source": [
    "Para controlar o fluxo de execução num programa Python nós temos os condicionais."
   ]
  },
  {
   "cell_type": "code",
   "execution_count": null,
   "metadata": {},
   "outputs": [],
   "source": [
    "# Os valores True e False *devem* ser escritos com a primeira letra maiúscula\n",
    "# Senão serão tratados como uma variável\n",
    "control = False\n",
    "\n",
    "if control: # equivalente a control == True\n",
    "    print(\"Passou o if!\")\n",
    "else:\n",
    "    print(\"Passou o else!\")"
   ]
  },
  {
   "cell_type": "markdown",
   "metadata": {},
   "source": [
    "Para fazermos um \"else if\" em python temos uma keyword especifica, o \"elif\". Interessante notar que em python nós usamos os nomes dos operandos, seguindo a conversão:\n",
    "- && -> and\n",
    "- || -> or \n",
    "- ! -> not"
   ]
  },
  {
   "cell_type": "code",
   "execution_count": null,
   "metadata": {},
   "outputs": [],
   "source": [
    "idade = 61\n",
    "\n",
    "if not idade > 18:\n",
    "    print(\"Você é um menor de idade!\")\n",
    "elif idade >= 18 and idade <= 60:\n",
    "    print(\"Você é um adulto!\")\n",
    "else:\n",
    "    print(\"Você é um idoso!\")"
   ]
  },
  {
   "cell_type": "markdown",
   "metadata": {},
   "source": [
    "Para combinar várias checagens lógicas, podemos aninhar com parênteses."
   ]
  },
  {
   "cell_type": "code",
   "execution_count": 6,
   "metadata": {},
   "outputs": [
    {
     "data": {
      "text/plain": [
       "'rico'"
      ]
     },
     "execution_count": 6,
     "metadata": {},
     "output_type": "execute_result"
    }
   ],
   "source": [
    "salario = 10000\n",
    "patrimonio = 1234567\n",
    "\n",
    "if salario >= 100000 or (patrimonio >= 1200000 and salario > 1000):\n",
    "    classe = \"rico\"\n",
    "elif patrimonio > 100000 and patrimonio < 1200000:\n",
    "    classe = \"media\"\n",
    "else:\n",
    "    classe = \"baixa\"\n",
    "\n",
    "classe"
   ]
  },
  {
   "cell_type": "markdown",
   "metadata": {},
   "source": [
    "Python possui também operador ternário, que nada mais é que um if compactado para caber em uma linha. Ele geralmente é utilizado para retornar um valor com base uma checagem, que não vale a pena abrir um bloco if apenas para isso. \n",
    "\n",
    "Em outras linguagens ela seria expressa mais ou menos assim: \n",
    "```\n",
    "String classe = salario >= 10000 ? \"média\" : \"baixa\";\n",
    "```\n",
    "\n",
    "Em python é um pouquinho diferente, sendo assim:"
   ]
  },
  {
   "cell_type": "code",
   "execution_count": null,
   "metadata": {},
   "outputs": [],
   "source": [
    "salario = 10000\n",
    "\n",
    "# Primeiro caso o if passe, depois o else\n",
    "classe = \"média\" if salario >= 10000 else \"baixa\"\n",
    "classe"
   ]
  },
  {
   "cell_type": "markdown",
   "metadata": {},
   "source": [
    "# Parte 3: Loops de Repetição\n"
   ]
  },
  {
   "cell_type": "markdown",
   "metadata": {},
   "source": [
    "Sempre que queremos executar uma mesma instrução múltiplas vezes, nos deparamos com loops de repetição, e em Python temos os dois mais famosos, o while e o for. \n",
    "\n",
    "Apesar do for levar a fama por ser mais usado no dia a dia, ambos tem seu lugar na programação com Python, então vamos ver alguns exemplos. "
   ]
  },
  {
   "cell_type": "code",
   "execution_count": 1,
   "metadata": {},
   "outputs": [
    {
     "name": "stdout",
     "output_type": "stream",
     "text": [
      "Contando 1 carneirinhos\n",
      "Contando 2 carneirinhos\n",
      "Contando 3 carneirinhos\n",
      "Contando 4 carneirinhos\n",
      "Contando 5 carneirinhos\n"
     ]
    }
   ],
   "source": [
    "carneirinhos = 5\n",
    "i = 0\n",
    "while i < carneirinhos:\n",
    "    print(\"Contando\", i + 1, \"carneirinhos\")\n",
    "    i += 1"
   ]
  },
  {
   "cell_type": "markdown",
   "metadata": {},
   "source": [
    "Podemos fazer a mesma coisa com um for, usando a função range()"
   ]
  },
  {
   "cell_type": "code",
   "execution_count": 2,
   "metadata": {},
   "outputs": [
    {
     "name": "stdout",
     "output_type": "stream",
     "text": [
      "Contando 1 carneirinhos\n",
      "Contando 2 carneirinhos\n",
      "Contando 3 carneirinhos\n",
      "Contando 4 carneirinhos\n",
      "Contando 5 carneirinhos\n"
     ]
    }
   ],
   "source": [
    "# Equivalente \n",
    "for carneiro in range(5):\n",
    "    print(\"Contando\", carneiro + 1, \"carneirinhos\")"
   ]
  },
  {
   "cell_type": "markdown",
   "metadata": {},
   "source": [
    "# Parte 4: Estruturas de Dados"
   ]
  },
  {
   "cell_type": "markdown",
   "metadata": {},
   "source": [
    "Curiosamente, em python não existem arrays embutidos nativamente. Já que por definição, um array é um bloco de memória *contínuo* que pode armazenar múltiplos valores, sendo que seu tamanho é imutável e os valores aramazenados são do mesmo tipo. "
   ]
  },
  {
   "cell_type": "markdown",
   "metadata": {},
   "source": [
    "\n",
    "Contudo, há uma biblioteca padrão que implementa arrays. Ou como alternativa mais completa, pode se utilizar arrays da biblioteca NumPy, que vem com várias utilidades para manipulá-las. Mas estamos dando spoilers aqui ;)"
   ]
  },
  {
   "cell_type": "code",
   "execution_count": 3,
   "metadata": {},
   "outputs": [
    {
     "data": {
      "text/plain": [
       "array([1, 2, 3, 4, 5, 6])"
      ]
     },
     "execution_count": 3,
     "metadata": {},
     "output_type": "execute_result"
    }
   ],
   "source": [
    "import numpy as np\n",
    "\n",
    "array = np.array([1, 2, 3, 4, 5, 6])\n",
    "array"
   ]
  },
  {
   "cell_type": "markdown",
   "metadata": {},
   "source": [
    "Em python temos ao invés listas, que são, como o nome indica, listas de valores de tamanho variável e que podem armazenar quaisquer valores dentro. Tecnicamente não são como arrays, mas por razões de brevidade e didática, vamos tratar como a mesma coisa."
   ]
  },
  {
   "cell_type": "code",
   "execution_count": 2,
   "metadata": {},
   "outputs": [
    {
     "data": {
      "text/plain": [
       "['Python', 42, {'Um', 'de', 'exemplo', 'set'}, 22.34]"
      ]
     },
     "execution_count": 2,
     "metadata": {},
     "output_type": "execute_result"
    }
   ],
   "source": [
    "# Pode ser instanciado assim:\n",
    "lista = list()\n",
    "# ou assim:\n",
    "lista = []\n",
    "\n",
    "# \".append\" adiciona um elemento no final de uma lista\n",
    "lista.append(\"Python\")\n",
    "lista.append(42)\n",
    "lista.append({ \"Um\", \"exemplo\", \"de\", \"set\" })\n",
    "lista.append(22.34)\n",
    "lista # vários tipos de dados num mesmo lugar!"
   ]
  },
  {
   "cell_type": "markdown",
   "metadata": {},
   "source": [
    "Podemos também brincar com os índices das listas com alguns outros graus de liberdade em relação a outras linguagens de programação, uma vez que temos operações com eles. "
   ]
  },
  {
   "cell_type": "code",
   "execution_count": 3,
   "metadata": {},
   "outputs": [
    {
     "name": "stdout",
     "output_type": "stream",
     "text": [
      "Python - 42 - {'Um', 'exemplo', 'de', 'set'}\n",
      "22.34 - {'Um', 'exemplo', 'de', 'set'} - 42\n",
      "\n",
      "\t Slices:\n",
      "1 => [42, {'Um', 'exemplo', 'de', 'set'}]\n",
      "2 => ['Python', 42]\n",
      "3 => [42, {'Um', 'exemplo', 'de', 'set'}, 22.34]\n",
      "4 => ['Python', 42, {'Um', 'exemplo', 'de', 'set'}]\n",
      "5 => ['Python', 42, {'Um', 'exemplo', 'de', 'set'}, 22.34]\n"
     ]
    }
   ],
   "source": [
    "# Podemos usar os índices normalmente\n",
    "print(lista[0], lista[1], lista[2], sep=\" - \")\n",
    "\n",
    "# Mas existem também índices negativos!\n",
    "# -1 -> Último item da lista, -2 -> Penúltimo, -3 -> Antepenúltimo, etc...\n",
    "print(lista[-1], lista[-2], lista[-3], sep=\" - \")\n",
    "\n",
    "print(\"\\n\\t Slices:\")\n",
    "# Podemos pegar slices (ou \"pedaços\") da lista usando índices\n",
    "print(\"1 =>\", lista[1:3]) # Do segundo ao terceiro elemento (o indice 3 fica fora slice)\n",
    "print(\"2 =>\", lista[:2])  # Todos os elementos *até* a segunda posição\n",
    "print(\"3 =>\", lista[1:])  # Todos os elementos *a partir* da segunda posição\n",
    "print(\"4 =>\", lista[:-1]) # Excluindo o último elemento\n",
    "print(\"5 =>\", lista[:])   # Todos os elementos da lista\n",
    "\n"
   ]
  },
  {
   "cell_type": "markdown",
   "metadata": {},
   "source": [
    "As listas possuem métodos próprios para lidar com operações básicas dos seus elementos, como por exemplo:"
   ]
  },
  {
   "cell_type": "code",
   "execution_count": null,
   "metadata": {},
   "outputs": [
    {
     "name": "stdout",
     "output_type": "stream",
     "text": [
      "Depois de remover: ['Python', 42, {'exemplo', 'set', 'Um', 'de'}]\n",
      "Lista invertida:  [{'exemplo', 'set', 'Um', 'de'}, 42, 'Python']\n",
      "Lista extendida:  [{'exemplo', 'set', 'Um', 'de'}, 42, 'Python', {'dicio': 'nario', 'ex': 'tra'}, ('Uma', 'tupla'), 'Elementos ;)']\n",
      "Novo elemento na segunda posição: [{'exemplo', 'set', 'Um', 'de'}, 'Eu sou o segundo', 42, 'Python', {'dicio': 'nario', 'ex': 'tra'}, ('Uma', 'tupla'), 'Elementos ;)']\n"
     ]
    }
   ],
   "source": [
    "# Remove o elemento da lista\n",
    "lista.remove(22.34)\n",
    "print(\"Depois de remover:\", lista)\n",
    "\n",
    "# Inverte a ordem dos elementos da lista\n",
    "lista.reverse()\n",
    "print(\"Lista invertida: \", lista)\n",
    "\n",
    "# Ordena os elementos da lista\n",
    "# Aqui ele não vai funcionar, por que temos outras listas dentro dele :(\n",
    "# lista.sort() \n",
    "# print(\"Lista ordenada: \", lista)\n",
    "\n",
    "# Adiciona os elementos de outra lista no final da lista\n",
    "lista.extend([{\"dicio\": \"nario\", \"ex\": \"tra\"}, (\"Uma\", \"tupla\"), \"Elementos ;)\"])\n",
    "print(\"Lista extendida: \", lista)\n",
    "\n",
    "# Coloca um novo elemento no índice dado\n",
    "lista.insert(1, \"Eu sou o segundo\")\n",
    "print(\"Novo elemento na segunda posição:\", lista)"
   ]
  },
  {
   "cell_type": "markdown",
   "metadata": {},
   "source": [
    "Tuplas são exatamente iguais a listas, com uma diferença crucial: elas são imutáveis, isso é, os valores de uma tupla não podem ser mudados. Ou seja, é uma lista que você cria apenas uma vez e ela é *read-only*."
   ]
  },
  {
   "cell_type": "code",
   "execution_count": 7,
   "metadata": {},
   "outputs": [
    {
     "name": "stdout",
     "output_type": "stream",
     "text": [
      "baNaNa 84.09\n",
      "baNaNa 42 True 84.09\n"
     ]
    }
   ],
   "source": [
    "tupla = (\"baNaNa\", 42, True, 84.09)\n",
    "\n",
    "# Indices funcionam exatamente como listas\n",
    "print(tupla[0], tupla[-1])\n",
    "\n",
    "# Cada valor pode ser desempacotado de sua tupla:\n",
    "fruta, resposta, verdade, preco = tupla\n",
    "print(fruta, resposta, verdade, preco)\n",
    "\n",
    "# São constantes, não podem ser mudadas\n",
    "# tupla[1] = \"Error :(\""
   ]
  },
  {
   "cell_type": "markdown",
   "metadata": {},
   "source": [
    "Dicionários são listas com índices de strings ao invés de inteiros. Ou se quiser ser mais técnico, são Hash Tables com chaves em formato de string. \n",
    "\n",
    "Aqui nós usamos para criar elementos nomeados dentro de uma estrutura de dados, e assim como listas, aceitam qualquer tipo de dados."
   ]
  },
  {
   "cell_type": "code",
   "execution_count": 11,
   "metadata": {},
   "outputs": [],
   "source": [
    "dicio = {\n",
    "    \"mensagem\": \"Bom dia, Breno!\",\n",
    "    \"tamanho\": 15,\n",
    "    \"amigos\": [\"João\", \"Maria\", \"Lisa\", \"Steve\"]\n",
    "}"
   ]
  },
  {
   "cell_type": "code",
   "execution_count": 12,
   "metadata": {},
   "outputs": [
    {
     "name": "stdout",
     "output_type": "stream",
     "text": [
      "Bom dia, Breno!\n"
     ]
    },
    {
     "data": {
      "text/plain": [
       "{'mensagem': 'Bom dia, Breno!',\n",
       " 'tamanho': 15,\n",
       " 'amigos': ['João', 'Maria', 'Lisa', 'Steve'],\n",
       " 'preco': 32,\n",
       " 'produto': 'BaNaNa'}"
      ]
     },
     "execution_count": 12,
     "metadata": {},
     "output_type": "execute_result"
    }
   ],
   "source": [
    "# Se não achar a chave \"mensagem\" retorna o segundo argumento\n",
    "print(dicio.get(\"mensagem\", \"Bom dia, Usuário!\"))\n",
    "\n",
    "# Adiciona mais campos no dicionário\n",
    "dicio.update({ \"preco\": 32, \"produto\": \"BaNaNa\" })\n",
    "dicio"
   ]
  },
  {
   "cell_type": "code",
   "execution_count": null,
   "metadata": {},
   "outputs": [
    {
     "name": "stdout",
     "output_type": "stream",
     "text": [
      "Estamos aqui\n",
      "Essa chave está aqui\n",
      "Esse valor está no dicionário\n"
     ]
    }
   ],
   "source": [
    "# Checa se existe na lista\n",
    "if \"Python\" in lista:\n",
    "    print(\"Estamos aqui\")\n",
    "else: \n",
    "    print(\"Não estamos aqui\")\n",
    "\n",
    "# Checa se a chave existe no dicionário\n",
    "if \"mensagem\" in dicio:\n",
    "    print(\"Essa chave está aqui\")\n",
    "\n",
    "# Checa se o valor existe no dicionário\n",
    "if 15 in dicio.values():\n",
    "    print(\"Esse valor está no dicionário\")"
   ]
  }
 ],
 "metadata": {
  "kernelspec": {
   "display_name": "Python 3",
   "language": "python",
   "name": "python3"
  },
  "language_info": {
   "codemirror_mode": {
    "name": "ipython",
    "version": 3
   },
   "file_extension": ".py",
   "mimetype": "text/x-python",
   "name": "python",
   "nbconvert_exporter": "python",
   "pygments_lexer": "ipython3",
   "version": "3.10.12"
  },
  "orig_nbformat": 4
 },
 "nbformat": 4,
 "nbformat_minor": 2
}
