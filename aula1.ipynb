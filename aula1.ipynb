{
 "cells": [
  {
   "attachments": {},
   "cell_type": "markdown",
   "metadata": {},
   "source": [
    "Uma pequena pausa para uma oração antes de nossa codificação"
   ]
  },
  {
   "cell_type": "code",
   "execution_count": 3,
   "metadata": {},
   "outputs": [
    {
     "name": "stdout",
     "output_type": "stream",
     "text": [
      "The Zen of Python, by Tim Peters\n",
      "\n",
      "Beautiful is better than ugly.\n",
      "Explicit is better than implicit.\n",
      "Simple is better than complex.\n",
      "Complex is better than complicated.\n",
      "Flat is better than nested.\n",
      "Sparse is better than dense.\n",
      "Readability counts.\n",
      "Special cases aren't special enough to break the rules.\n",
      "Although practicality beats purity.\n",
      "Errors should never pass silently.\n",
      "Unless explicitly silenced.\n",
      "In the face of ambiguity, refuse the temptation to guess.\n",
      "There should be one-- and preferably only one --obvious way to do it.\n",
      "Although that way may not be obvious at first unless you're Dutch.\n",
      "Now is better than never.\n",
      "Although never is often better than *right* now.\n",
      "If the implementation is hard to explain, it's a bad idea.\n",
      "If the implementation is easy to explain, it may be a good idea.\n",
      "Namespaces are one honking great idea -- let's do more of those!\n"
     ]
    }
   ],
   "source": [
    "import this"
   ]
  },
  {
   "cell_type": "markdown",
   "metadata": {},
   "source": [
    "Traduzindo para as terras tupiniquins, temos:"
   ]
  },
  {
   "cell_type": "code",
   "execution_count": null,
   "metadata": {},
   "outputs": [],
   "source": [
    "\"\"\"\n",
    "O Zen do Python, por Tim Peters\n",
    "\n",
    "Belo é melhor do que feio.\n",
    "Explícito é melhor do que implícito.\n",
    "Simples é melhor do que complexo.\n",
    "Complexo é melhor do que complicado. \n",
    "Linear é melhor do que aninhado.\n",
    "Esparso é melhor do que denso.\n",
    "Legibilidade é importante.\n",
    "Casos especiais não são especiais o suficiente para quebrar as regras.\n",
    "Mesmo que praticidade ganhe da pureza. \n",
    "Erros nunca deverão passar silenciosamente. \n",
    "A não ser que explicitamente silenciados.\n",
    "Em face da ambiguidade, negue a tentação de adivinhar.\n",
    "Deve haver um-- e preferencialmente apenas um --modo óbvio de ser fazer.\n",
    "Embora esse caminho possa não ser óbvio a princípio, a menos que você seja holandês.\n",
    "Agora é melhor do que nunca.\n",
    "Embora nunca é geralmente melhor do que *exatamente* agora.\n",
    "Se a implementação é díficil de explicar, é uma ideia ruim.\n",
    "Se a implementação é fácil de explicar, pode ser uma boa ideia.\n",
    "Namespaces são uma ideia do caramba-- vamos fazer mais deles!\n",
    "\"\"\";"
   ]
  },
  {
   "attachments": {},
   "cell_type": "markdown",
   "metadata": {},
   "source": [
    "## Parte 1: O Beabá do Python"
   ]
  },
  {
   "attachments": {},
   "cell_type": "markdown",
   "metadata": {},
   "source": [
    "Para o nosso primeiro código, vamos para o clássico Hello World. Que em Python é literalmente uma linha. Não precisa encapsular em uma função como em C ou criar uma classe inteira só pra escrever no console como em Java, só uma função no escopo global e vamo que vamo!"
   ]
  },
  {
   "cell_type": "code",
   "execution_count": null,
   "metadata": {},
   "outputs": [],
   "source": [
    "print(\"Hello, World!\")"
   ]
  },
  {
   "cell_type": "markdown",
   "metadata": {},
   "source": [
    "Variáveis são como caixas, que guarda uma informação dentro (ou pode estar vazia também), como números, texto, datas, bytes, etc. E como o nome dar a dica, ela é variável, ou seja, você pode trocar o valor dentro da caixa. \n",
    "\n",
    "Existem dois tipos linguagens quando se fala de variáveis: tipadas e dinâmicas.\n",
    "\n",
    "Tipadas (como Java, C#, C) cada \"caixa\" de uma variável vem com um selo que diz qual o tipo da variável, que não pode ser mudado em nenhuma ocasião.\n",
    "\n",
    "```\n",
    "int numero = 42; // \"numero\" SÓ PODE ser um número inteiro\n",
    "String texto = \"Hello, World!\" // \"texto\" SÓ PODE ser uma string\n",
    "int [] lista = { 1, 2, 3, 4 } //etc\n",
    "```\n",
    "\n",
    "Mas Python é uma linguagem dinâmica, isso é, a variável pode ser de qualquer tipo e pode mudar a qualquer momento. "
   ]
  },
  {
   "cell_type": "code",
   "execution_count": 1,
   "metadata": {},
   "outputs": [
    {
     "name": "stdout",
     "output_type": "stream",
     "text": [
      "42  =>  <class 'int'>\n",
      "Hype é o Hype  =>  <class 'str'>\n",
      "[1, 2, 3, 4, 5]  =>  <class 'list'>\n"
     ]
    }
   ],
   "source": [
    "valor = 42 # \"valor\" é um número inteiro\n",
    "print(valor, \" => \", type(valor))\n",
    "\n",
    "valor = \"Hype tá no hype\" # \"valor\" agora é um texto\n",
    "print(valor, \" => \", type(valor))\n",
    "\n",
    "\n",
    "valor = [1, 2, 3, 4, 5] # \"valor\" agora é uma lista (array)\n",
    "print(valor, \" => \", type(valor))"
   ]
  },
  {
   "attachments": {},
   "cell_type": "markdown",
   "metadata": {},
   "source": [
    "Fácil, não? Você não precisa dizer explicitamente qual o tipo da variável, porque o interpretador vai fazer isso por você.\n",
    "\n",
    "Mas se quiser ter *absoluta* certeza do tipo da variável, você pode passá-la para um função de conversão, que pode fazer uma string se tornar em um inteiro, por exemplo. "
   ]
  },
  {
   "cell_type": "code",
   "execution_count": null,
   "metadata": {},
   "outputs": [],
   "source": [
    "nao_numero = int(\"10\")\n",
    "numero = int(10)  \n",
    "\n",
    "# São do mesmo tipo\n",
    "print(nao_numero + numero) \n",
    "\n",
    "# Você pode fazer isso com vários tipos de dados\n",
    "str() # Para Strings\n",
    "float() # Para floats (números reais)\n",
    "list() # Para listas\n",
    "tuple(); # Para tuplas"
   ]
  },
  {
   "attachments": {},
   "cell_type": "markdown",
   "metadata": {},
   "source": [
    "Ou ainda pode também checar o tipo da váriavel (mas geralmente uma boa estrutura de código e nome de váriavel já diz qual o tipo dela)"
   ]
  },
  {
   "cell_type": "code",
   "execution_count": null,
   "metadata": {},
   "outputs": [],
   "source": [
    "# Você consegue instanciar várias variáveis em uma linha!\n",
    "string, numero, numero_real = \"Python é Maneiro!\", 42, 35.98\n",
    "\n",
    "type(string), type(numero), type(numero_real)"
   ]
  },
  {
   "cell_type": "markdown",
   "metadata": {},
   "source": [
    "Esses são os tipos de dados mais usados no dia a dia codando em Python (e o que iremos focar no nosso curso.)\n",
    "\n",
    "Outros que não iremos usar aqui, mas é legal saber que existem:\n",
    "- Complex (números complexos)\n",
    "- Set (conjunto de elementos sem repetição)\n",
    "- Bytes\n",
    "- ByteArray (array de bytes)"
   ]
  },
  {
   "cell_type": "code",
   "execution_count": null,
   "metadata": {},
   "outputs": [],
   "source": [
    "from pprint import pprint\n",
    "\n",
    "# String de texto\n",
    "string = \"Oi Pessoal!\"\n",
    "\n",
    "# Número inteiro\n",
    "inteiro = 42\n",
    "\n",
    "# Número de ponto flutuante (número real)\n",
    "flutuante = 42.24\n",
    "\n",
    "# Lista de elementos\n",
    "lista = [\"Oi Pessoal\", 42, 42.24]\n",
    "\n",
    "# Tupla (lista de elementos imutável)\n",
    "tupla = (\"Oi Pessoal\", 42, 42.24)\n",
    "\n",
    "# Intervalo de valores\n",
    "intervalo = range(10)\n",
    "\n",
    "print(\"Intervalo:\")\n",
    "for i in intervalo:\n",
    "    print(i, end=\" \")\n",
    "print(\"\\n\")\n",
    "\n",
    "# Dicionário (lista de elementos com índices não-inteiros)\n",
    "dicio = {\n",
    "    \"string\": \"Oi Pessoal\",\n",
    "    \"inteiro\": 42,\n",
    "    \"flutuante\": 42.24,\n",
    "    \"lista\": [\"Oi Pessoal\", 42, 42.24]\n",
    "}\n",
    "\n",
    "print(\"Dicionário:\")\n",
    "pprint(dicio)\n",
    "print(\"\\nÍndice [\\\"string\\\"]:\", dicio[\"string\"])\n",
    "\n",
    "# Booleanos \n",
    "bool_true, bool_false = True, False\n",
    "\n",
    "# Valor Nulo (None)\n",
    "nulo = None"
   ]
  },
  {
   "attachments": {},
   "cell_type": "markdown",
   "metadata": {},
   "source": [
    "Agora pra uma situação:\n",
    "\n",
    "O professor E. Biruta quer calcular a média final dos seus 3 mil alunos, mas como são muitos pra fazer na mão ele quer criar um programa para fazer isso pra ele. A média é feita de: \n",
    "\n",
    "Existem duas provas (P1 e P2), e o peso delas é calculado com:\n",
    "\n",
    "- Peso P1: A nota da P1 mais um, vale 60% da nota\n",
    "- Peso P2: A nota da P2 menos um, vale 40%\n",
    "\n",
    "E para a média é calculado assim:\n",
    "\n",
    "- Peso-P1 mais Peso-P2\n",
    "- Como bônus, a gente incrementa o resto da média com a segunda potência de 2 (módulo da média com 2^2) para ter um nota extra"
   ]
  },
  {
   "cell_type": "code",
   "execution_count": 5,
   "metadata": {},
   "outputs": [
    {
     "data": {
      "text/plain": [
       "11.2"
      ]
     },
     "execution_count": 5,
     "metadata": {},
     "output_type": "execute_result"
    }
   ],
   "source": [
    "# Valor das provas\n",
    "p1, p2 = 7, 8\n",
    "\n",
    "# Cada Prova tem seu peso\n",
    "peso_p1 = (p1 + 1) * 0.6\n",
    "peso_p2 = (p2 - 1) * 0.4\n",
    "\n",
    "# Media é a soma dos dois\n",
    "media = peso_p1 + peso_p2\n",
    "\n",
    "# Tira o resto e soma à média\n",
    "media += media % (2 ** 2) # \"+=\" é igual a dizer media = media + (valor)\n",
    "\n",
    "media"
   ]
  },
  {
   "attachments": {},
   "cell_type": "markdown",
   "metadata": {},
   "source": [
    "Assim como nós podemos usar operadores em números, alguns deles nós podemos usar em textos, para fazer algumas manipulações em textos!"
   ]
  },
  {
   "cell_type": "code",
   "execution_count": 8,
   "metadata": {},
   "outputs": [
    {
     "name": "stdout",
     "output_type": "stream",
     "text": [
      "Meu nome é Hypezinho\n",
      "My name is, My name is, My name is, Slim Shady\n",
      "Meu nome é Hypezinho\n"
     ]
    }
   ],
   "source": [
    "str1 = \"Meu nome é \"\n",
    "nome = \"Hypezinho\"\n",
    "# Concatenação de Strings (Só funciona se os dois operandos forem string!)\n",
    "print(str1 + nome)             \n",
    "\n",
    "str1 = \"My name is, \"\n",
    "# Repetição de string (Um dos operandos tem de ser um número inteiro!)\n",
    "print((str1 * 3) + \"Slim Shady\") \n",
    "\n",
    "# Formatação de String (vamos ver outros exemplos mais para frente)\n",
    "print(\"Meu nome é %s\" % nome)  "
   ]
  },
  {
   "attachments": {},
   "cell_type": "markdown",
   "metadata": {},
   "source": [
    "Podemos usar em listas também!"
   ]
  },
  {
   "cell_type": "code",
   "execution_count": 9,
   "metadata": {},
   "outputs": [
    {
     "name": "stdout",
     "output_type": "stream",
     "text": [
      "[1, 2, 3, 4, 5, 6]\n",
      "[1, 2, 3, 1, 2, 3, 1, 2, 3]\n"
     ]
    }
   ],
   "source": [
    "lista1, lista2 = [1, 2, 3], [4, 5, 6]\n",
    "\n",
    "print(lista1 + lista2) # Concatenação de Listas (Só funciona se todos os operandos forem uma lista!)\n",
    "print(lista1 * 3)      # Repetição de Lista (Um dos operandos tem de ser um número inteiro!)"
   ]
  },
  {
   "cell_type": "markdown",
   "metadata": {},
   "source": [
    "Uma das partes mais importantes de um programa é receber informações do usuário, e com o Python, é só chamar uma função.\n",
    "\n",
    "A função input() retorna as informações digitadas pelo usuário em forma de string, porém com as funções de conversão o valor pode ser transformado em números, listas, etc.\n",
    "\n",
    "Vamos fazer seu perfil de aluno de python?"
   ]
  },
  {
   "cell_type": "code",
   "execution_count": 10,
   "metadata": {},
   "outputs": [
    {
     "name": "stdout",
     "output_type": "stream",
     "text": [
      "Formulário de Aluno\n",
      "Nome: Breno\n",
      "Idade daqui a um ano: 13\n",
      "Interesses:\n",
      "\t-> Breno\n",
      "\t-> da\n",
      "\t-> Silva\n",
      "\t-> Nogueira\n"
     ]
    }
   ],
   "source": [
    "print(\"Formulário de Aluno\")\n",
    "\n",
    "# Retorna seu nome em uma string\n",
    "nome = input(\"Nome do Aluno: \") \n",
    "\n",
    "# Transformamos em inteiro\n",
    "idade = int(input(\"Idade do Aluno: \")) \n",
    "\n",
    "# Separamos em uma lista com cada interesse\n",
    "interesses = input(\"Interesses (separados por vírgula): \").split(\",\") \n",
    "\n",
    "print(\"Nome:\", nome)\n",
    "print(\"Idade daqui a um ano:\", (idade + 1))\n",
    "print(\"Interesses:\")\n",
    "for materia in interesses:\n",
    "    print(\"\\t->\", materia.strip())\n"
   ]
  },
  {
   "cell_type": "markdown",
   "metadata": {},
   "source": [
    "# Parte 2: Condicionais"
   ]
  },
  {
   "cell_type": "markdown",
   "metadata": {},
   "source": [
    "Às vezes queremos rodar instruções somente se alguma condição é verdadeira (ou falsa), e para isso controlamos o que pode ou não ser executado com instruções condicionais. \n",
    "\n",
    "Para checagens condicionais usamos a expressão \"if\", que checa se uma expressão booleana é verdadeira. E caso não for, a expressão \"else\" diz o que a gente deve fazer."
   ]
  },
  {
   "cell_type": "code",
   "execution_count": null,
   "metadata": {},
   "outputs": [],
   "source": [
    "# Os valores True e False *devem* ser escritos com a primeira letra maiúscula\n",
    "# Senão serão tratados como uma variável\n",
    "valor = False\n",
    "\n",
    "if valor == True: \n",
    "    print(\"É verdade! :D\") # Se a condição for verdadeira\n",
    "else:\n",
    "    print(\"É mentira :(\") # Se a condição for falsa"
   ]
  },
  {
   "cell_type": "markdown",
   "metadata": {},
   "source": [
    "Vamos voltar para o Professor Biruta. Ele percebeu que muito alunos estavam ficando com notas acima de 10, e o diretor da escola falou para ele dar um jeito nisso. \n",
    "\n",
    "Para tal, ele pensou em 3 tratamentos:\n",
    "\n",
    "- Se a nota for maior do que 10, a nota é arredondada para 10.\n",
    "- Se a nota estiver entre 5 e 8, ele ganha um ponto bônus\n",
    "- Se a nota for menor ou igual à média (5), a gente usa o cálculo de nota bônus anterior\n"
   ]
  },
  {
   "cell_type": "code",
   "execution_count": null,
   "metadata": {},
   "outputs": [],
   "source": [
    "media = 10 # Mude aqui, e teste\n",
    "\n",
    "# Recebimento da nota extra abaixo da média\n",
    "if media <= 5:\n",
    "    media += media % (2 ** 2)\n",
    "\n",
    "# Ponto bônus\n",
    "if media > 5 and media < 8:\n",
    "    media += 1\n",
    "\n",
    "# Se a nota for maior que 10\n",
    "if media > 10:\n",
    "    media = 10"
   ]
  },
  {
   "cell_type": "markdown",
   "metadata": {},
   "source": [
    "Como as condições são independentes entre si (nunca vai ter uma nota que vai ser ao mesmo tempo menor que 5 e entre 5 e 8), a gente pode colocar ele num *if sequencial*, que é mais eficiente. \n",
    "\n",
    "Podemos criar vários \"if\"s usando a expressão \"elif\". Que é um \"else\", só que colocamos outra expressão para checar ao invés de só executar.  "
   ]
  },
  {
   "cell_type": "code",
   "execution_count": null,
   "metadata": {},
   "outputs": [],
   "source": [
    "media = 10 # Mude aqui, e teste\n",
    "\n",
    "if media <= 5: # Recebimento da nota extra abaixo da média\n",
    "    media += media % (2 ** 2) \n",
    "elif media > 5 and media < 8: # Ponto bônus\n",
    "    media += 1\n",
    "elif media > 10: # Se a nota for maior que 10\n",
    "    media = 10 \n",
    "\n",
    "# Existe um teorético\n",
    "else:\n",
    "    media = media \n",
    "\n",
    "# Que indica que se não cair em nenhum dos if's, a média fica igual\n",
    "# mas como é redundante, nós nunca escrevemos ele na prática"
   ]
  },
  {
   "cell_type": "markdown",
   "metadata": {},
   "source": [
    "Tudo isso deu bastante certo, mas o diretor pediu para fazer um validador para dizer se um estudante de recuperação passou na matéria.\n",
    "\n",
    "E pra isso, o Professor Biruta tem outras diretivas. Uma aluno passa na matéria se:\n",
    "\n",
    "- A média final for maior ou igual a 5, ele passou\n",
    "- O aluno tirou 9 ou mais na recuperação, **ou** a média entre a nota final e a recuperação for maior ou igual à 5\n",
    "- O aluno tirou exatamente 3.5 na recuperação, **e** tirou qualquer nota que não 3.5 na média final (é uma piada interna, você não entenderia)"
   ]
  },
  {
   "cell_type": "code",
   "execution_count": 13,
   "metadata": {},
   "outputs": [
    {
     "name": "stdout",
     "output_type": "stream",
     "text": [
      "Passou :D\n"
     ]
    }
   ],
   "source": [
    "media, recup = 3.4, 3.5\n",
    "\n",
    "# Se o aluno está de recuperação (a nota dele não está maior-igual a 5)\n",
    "if not media >= 5: # \"if\" aninhado\n",
    "    # Se tirou 10 ou a média de recuperação maior igual a 5\n",
    "    if recup >= 9 or (media + recup)/2 >= 5: # Você pode colocar cálculos em um if\n",
    "        print(\"Passou :D\")\n",
    "    # Se ele ta dentro da piada interna\n",
    "    elif recup == 3.5 and media != 3.5:\n",
    "        print(\"Passou :D\")\n",
    "    else:\n",
    "        print(\"Pegou DP :(\") # ;(\n",
    "else:\n",
    "    print(\"Passou! :D\")"
   ]
  },
  {
   "cell_type": "markdown",
   "metadata": {},
   "source": [
    "Python possui também operador ternário, que nada mais é que um if compactado para caber em uma linha. Ele geralmente é utilizado para retornar um valor com base uma checagem, que não vale a pena abrir um bloco if apenas para isso. \n",
    "\n",
    "Em outras linguagens ela seria expressa mais ou menos assim: \n",
    "```java\n",
    "String classe = salario >= 10000 ? \"média\" : \"baixa\";\n",
    "```\n",
    "\n",
    "Em python é um pouquinho diferente, sendo assim:\n",
    "\n",
    "\n",
    "```python\n",
    "classe = <valor se true> if <condição> else <valor se false>\n",
    "```"
   ]
  },
  {
   "cell_type": "code",
   "execution_count": null,
   "metadata": {},
   "outputs": [],
   "source": [
    "media = 5\n",
    "\n",
    "# Primeiro caso o if passe, depois o else\n",
    "situacao = \"Passou :D\" if media >= 5 else \"Recuperação :(\"\n",
    "situacao"
   ]
  },
  {
   "cell_type": "markdown",
   "metadata": {},
   "source": [
    "# Parte 3: Estruturas de Dados"
   ]
  },
  {
   "cell_type": "markdown",
   "metadata": {},
   "source": [
    "Curiosamente, em python não existem arrays embutidos nativamente. Já que por definição, um array é um bloco de memória *contínuo* que pode armazenar múltiplos valores, sendo que seu tamanho é imutável e os valores aramazenados são do mesmo tipo. \n",
    "\n",
    "Em python temos ao invés listas, que são, como o nome indica, são listas de valores de tamanho variável e que podem armazenar quaisquer valores dentro. Tecnicamente não são como arrays, mas por razões de brevidade e didática, vamos tratar como a mesma coisa."
   ]
  },
  {
   "cell_type": "code",
   "execution_count": 2,
   "metadata": {},
   "outputs": [
    {
     "data": {
      "text/plain": [
       "['Python', 42, {'Um', 'de', 'exemplo', 'set'}, 22.34]"
      ]
     },
     "execution_count": 2,
     "metadata": {},
     "output_type": "execute_result"
    }
   ],
   "source": [
    "# Pode ser instanciado assim:\n",
    "lista = list()\n",
    "# ou assim:\n",
    "lista = []\n",
    "\n",
    "# \".append\" adiciona um elemento no final de uma lista\n",
    "lista.append(\"Python\")\n",
    "lista.append(42)\n",
    "lista.append({ \"Um\", \"exemplo\", \"de\", \"set\" })\n",
    "lista.append(22.34)\n",
    "lista # vários tipos de dados num mesmo lugar!"
   ]
  },
  {
   "cell_type": "markdown",
   "metadata": {},
   "source": [
    "Podemos também brincar com os índices das listas com alguns outros graus de liberdade em relação a outras linguagens de programação, uma vez que temos operações com eles. "
   ]
  },
  {
   "cell_type": "code",
   "execution_count": 3,
   "metadata": {},
   "outputs": [
    {
     "name": "stdout",
     "output_type": "stream",
     "text": [
      "Python - 42 - {'Um', 'exemplo', 'de', 'set'}\n",
      "22.34 - {'Um', 'exemplo', 'de', 'set'} - 42\n",
      "\n",
      "\t Slices:\n",
      "1 => [42, {'Um', 'exemplo', 'de', 'set'}]\n",
      "2 => ['Python', 42]\n",
      "3 => [42, {'Um', 'exemplo', 'de', 'set'}, 22.34]\n",
      "4 => ['Python', 42, {'Um', 'exemplo', 'de', 'set'}]\n",
      "5 => ['Python', 42, {'Um', 'exemplo', 'de', 'set'}, 22.34]\n"
     ]
    }
   ],
   "source": [
    "# Podemos usar os índices normalmente\n",
    "print(lista[0], lista[1], lista[2], sep=\" - \")\n",
    "\n",
    "# Mas existem também índices negativos!\n",
    "# -1 -> Último item da lista, -2 -> Penúltimo, -3 -> Antepenúltimo, etc...\n",
    "print(lista[-1], lista[-2], lista[-3], sep=\" - \")\n",
    "\n",
    "print(\"\\n\\t Slices:\\n\")\n",
    "# Podemos pegar slices (ou \"pedaços\") da lista usando índices\n",
    "print(\"1 =>\", lista[1:3]) # Do segundo ao terceiro elemento (o indice 3 fica fora slice)\n",
    "print(\"2 =>\", lista[:2])  # Todos os elementos *até* a segunda posição\n",
    "print(\"3 =>\", lista[1:])  # Todos os elementos *a partir* da segunda posição\n",
    "print(\"4 =>\", lista[:-1]) # Excluindo o último elemento\n",
    "print(\"5 =>\", lista[:])   # Todos os elementos da lista"
   ]
  },
  {
   "cell_type": "markdown",
   "metadata": {},
   "source": [
    "As listas possuem métodos próprios para lidar com operações básicas dos seus elementos, como por exemplo:"
   ]
  },
  {
   "cell_type": "code",
   "execution_count": null,
   "metadata": {},
   "outputs": [
    {
     "name": "stdout",
     "output_type": "stream",
     "text": [
      "Depois de remover: ['Python', 42, {'exemplo', 'set', 'Um', 'de'}]\n",
      "Lista invertida:  [{'exemplo', 'set', 'Um', 'de'}, 42, 'Python']\n",
      "Lista extendida:  [{'exemplo', 'set', 'Um', 'de'}, 42, 'Python', {'dicio': 'nario', 'ex': 'tra'}, ('Uma', 'tupla'), 'Elementos ;)']\n",
      "Novo elemento na segunda posição: [{'exemplo', 'set', 'Um', 'de'}, 'Eu sou o segundo', 42, 'Python', {'dicio': 'nario', 'ex': 'tra'}, ('Uma', 'tupla'), 'Elementos ;)']\n"
     ]
    }
   ],
   "source": [
    "# Remove o elemento da lista\n",
    "lista.remove(22.34)\n",
    "print(\"Depois de remover:\", lista)\n",
    "\n",
    "# Inverte a ordem dos elementos da lista\n",
    "lista.reverse()\n",
    "print(\"Lista invertida: \", lista)\n",
    "\n",
    "# Ordena os elementos da lista\n",
    "# Aqui ele não vai funcionar, por que temos outras listas dentro dele :(\n",
    "# lista.sort() \n",
    "# print(\"Lista ordenada: \", lista)\n",
    "\n",
    "# Adiciona os elementos de outra lista no final da lista\n",
    "nova_lista = [\"Elementos ;)\", {\"dicio\": \"nario\", \"ex\": \"tra\"}, (\"Uma\", \"tupla\")]\n",
    "lista.extend(nova_lista)\n",
    "print(\"Lista extendida: \", lista)\n",
    "\n",
    "# Coloca um novo elemento no índice dado\n",
    "lista.insert(1, \"Eu sou o segundo\")\n",
    "print(\"Novo elemento na segunda posição:\", lista)\n",
    "\n",
    "# Checa se o valor existe na lista\n",
    "if \"Python\" in lista:\n",
    "    print(\"Estamos aqui\")\n",
    "else: \n",
    "    print(\"Não estamos aqui\")"
   ]
  },
  {
   "cell_type": "markdown",
   "metadata": {},
   "source": [
    "Tuplas são exatamente iguais a listas, com uma diferença crucial: elas são imutáveis, isso é, os valores de uma tupla não podem ser mudados. Ou seja, é uma lista que você cria apenas uma vez e ela é *read-only*."
   ]
  },
  {
   "cell_type": "code",
   "execution_count": 1,
   "metadata": {},
   "outputs": [
    {
     "name": "stdout",
     "output_type": "stream",
     "text": [
      "baNaNa 84.09\n",
      "baNaNa 42 True 84.09\n"
     ]
    },
    {
     "ename": "TypeError",
     "evalue": "'tuple' object does not support item assignment",
     "output_type": "error",
     "traceback": [
      "\u001b[0;31m---------------------------------------------------------------------------\u001b[0m",
      "\u001b[0;31mTypeError\u001b[0m                                 Traceback (most recent call last)",
      "Cell \u001b[0;32mIn[1], line 11\u001b[0m\n\u001b[1;32m      8\u001b[0m \u001b[38;5;28mprint\u001b[39m(fruta, resposta, verdade, preco)\n\u001b[1;32m     10\u001b[0m \u001b[38;5;66;03m# São constantes, não podem ser mudadas\u001b[39;00m\n\u001b[0;32m---> 11\u001b[0m \u001b[43mtupla\u001b[49m\u001b[43m[\u001b[49m\u001b[38;5;241;43m1\u001b[39;49m\u001b[43m]\u001b[49m \u001b[38;5;241m=\u001b[39m \u001b[38;5;124m\"\u001b[39m\u001b[38;5;124mError :(\u001b[39m\u001b[38;5;124m\"\u001b[39m\n",
      "\u001b[0;31mTypeError\u001b[0m: 'tuple' object does not support item assignment"
     ]
    }
   ],
   "source": [
    "tupla = (\"baNaNa\", 42, True, 84.09)\n",
    "\n",
    "# Indices funcionam exatamente como listas\n",
    "print(tupla[0], tupla[-1])\n",
    "\n",
    "# Cada valor pode ser desempacotado de sua tupla:\n",
    "fruta, resposta, verdade, preco = tupla\n",
    "print(fruta, resposta, verdade, preco)\n",
    "\n",
    "# São constantes, não podem ser mudadas\n",
    "tupla[1] = \"Error :(\""
   ]
  },
  {
   "cell_type": "markdown",
   "metadata": {},
   "source": [
    "Dicionários são listas com índices de strings ao invés de inteiros. Ou se quiser ser mais técnico, são Hash Tables com chaves em formato de string. \n",
    "\n",
    "Aqui nós usamos para criar elementos nomeados dentro de uma estrutura de dados, e assim como listas, aceitam qualquer tipo de dados."
   ]
  },
  {
   "cell_type": "code",
   "execution_count": 11,
   "metadata": {},
   "outputs": [],
   "source": [
    "dicio = {\n",
    "    \"mensagem\": \"Bom dia, Joãozinho!\",\n",
    "    \"tamanho\": 15,\n",
    "    \"amigos\": [\"Miguel\", \"Maria\", \"Lisa\", \"Steve\"]\n",
    "}"
   ]
  },
  {
   "cell_type": "code",
   "execution_count": 12,
   "metadata": {},
   "outputs": [
    {
     "name": "stdout",
     "output_type": "stream",
     "text": [
      "Bom dia, Breno!\n"
     ]
    },
    {
     "data": {
      "text/plain": [
       "{'mensagem': 'Bom dia, Breno!',\n",
       " 'tamanho': 15,\n",
       " 'amigos': ['João', 'Maria', 'Lisa', 'Steve'],\n",
       " 'preco': 32,\n",
       " 'produto': 'BaNaNa'}"
      ]
     },
     "execution_count": 12,
     "metadata": {},
     "output_type": "execute_result"
    }
   ],
   "source": [
    "# Acessamos colocando o nome do campo entre chaves\n",
    "print(dicio[\"tamanho\"])\n",
    "\n",
    "# Se não achar a chave \"mensagem\" retorna o segundo argumento\n",
    "print(dicio.get(\"mensagem\", \"Bom dia, Usuário!\"))\n",
    "\n",
    "# Adiciona mais campos no dicionário\n",
    "dicio.update({ \"preco\": 32, \"produto\": \"BaNaNa\" })\n",
    "dicio"
   ]
  },
  {
   "cell_type": "code",
   "execution_count": null,
   "metadata": {},
   "outputs": [
    {
     "name": "stdout",
     "output_type": "stream",
     "text": [
      "Estamos aqui\n",
      "Essa chave está aqui\n",
      "Esse valor está no dicionário\n"
     ]
    }
   ],
   "source": [
    "# Checa se a chave existe no dicionário\n",
    "if \"mensagem\" in dicio:\n",
    "    print(\"Essa chave está aqui\")\n",
    "\n",
    "# Checa se o valor existe no dicionário\n",
    "if 15 in dicio.values():\n",
    "    print(\"Esse valor está no dicionário\")"
   ]
  },
  {
   "cell_type": "markdown",
   "metadata": {},
   "source": [
    "# Parte 4: Loops"
   ]
  },
  {
   "cell_type": "markdown",
   "metadata": {},
   "source": [
    "Quando queremos repetir o mesmo comando mais de uma vez, ficar dando ctrl+c ctrl+v não é a maneira mais eficiente. \n",
    "\n",
    "Por exemplo, Professor Biruta adora contar carneirinhos antes de dormir. Mas ele gosta de contar exatamente como Guido Van Rossum planejou para o Python: escrevendo cada print() na mão: "
   ]
  },
  {
   "cell_type": "code",
   "execution_count": null,
   "metadata": {},
   "outputs": [
    {
     "name": "stdout",
     "output_type": "stream",
     "text": [
      "1 carneirinho\n",
      "2 carneirinhos\n",
      "3 carneirinhos\n",
      "4 carneirinhos\n",
      "5 carneirinhos\n"
     ]
    }
   ],
   "source": [
    "print(\"1 carneirinho\")\n",
    "print(\"2 carneirinhos\")\n",
    "print(\"3 carneirinhos\")\n",
    "print(\"4 carneirinhos\")\n",
    "print(\"5 carneirinhos\")"
   ]
  },
  {
   "cell_type": "markdown",
   "metadata": {},
   "source": [
    "Mas um dia ele resolveu contar até 100 carneirinhos, mas como é chato fazer um por um, acabou dormindo enquanto escrevia o vigésimo print().\n",
    "\n",
    "Para ajudar o Professor, vamos ver a nossa primeira estrutura de repetição (loop): o while. Ele vai repetir as intruções dentro dele enquanto a expressão dada for verdadeira. "
   ]
  },
  {
   "cell_type": "code",
   "execution_count": null,
   "metadata": {},
   "outputs": [
    {
     "name": "stdout",
     "output_type": "stream",
     "text": [
      "1 carneirinhos\n",
      "2 carneirinhos\n",
      "3 carneirinhos\n",
      "4 carneirinhos\n",
      "5 carneirinhos\n"
     ]
    }
   ],
   "source": [
    "i = 0 # Qual o valor que começamos\n",
    "\n",
    "while i < 5: # O loop para quando \"i\" for igual a 4 (menor que 5)\n",
    "    print(i + 1, \"carneirinhos\")\n",
    "    i += 1 # Adiciona uma iteração no loop"
   ]
  },
  {
   "cell_type": "markdown",
   "metadata": {},
   "source": [
    "Podemos fazer a mesma coisa com um for, que em python é um pouco diferente. Não temos aquele famoso:\n",
    "\n",
    "```java\n",
    "for(int i = 0; i < 5; i++) {\n",
    "    // Código\n",
    "}\n",
    "```\n",
    "\n",
    "Nós usamos a função range(), retorna a mesma coisa que o for de cima. Ele vai criar uma sequência de 5 números começando com 0 para mexermos com índices, dessa maneira:\n",
    "\n",
    "```python\n",
    "[0, 1, 2, 3, 4]\n",
    "```\n"
   ]
  },
  {
   "cell_type": "code",
   "execution_count": null,
   "metadata": {},
   "outputs": [
    {
     "name": "stdout",
     "output_type": "stream",
     "text": [
      "Contando 1 carneirinhos\n",
      "Contando 2 carneirinhos\n",
      "Contando 3 carneirinhos\n",
      "Contando 4 carneirinhos\n",
      "Contando 5 carneirinhos\n"
     ]
    }
   ],
   "source": [
    "# Equivalente \n",
    "for carneiro in range(5):\n",
    "    # Adicionamos + 1 para que a gente não conte \"0 carneirinhos\"\n",
    "    print(\"Contando\", carneiro + 1, \"carneirinhos\")"
   ]
  },
  {
   "cell_type": "markdown",
   "metadata": {},
   "source": [
    "É legal de saber, mas durante os projetos python, a maneira que você mais vai usar é passar um iterável para o for.\n",
    "\n",
    "Mas o que é um iterável?\n",
    "Iterável é qualquer estrutura de dados que podemos passar por todos os elementos iterativamente (daí o nome). No python, temos por exemplo:\n",
    "\n",
    "- Listas\n",
    "- Dicionários\n",
    "- Tuplas\n",
    "- Conjuntos (set)\n",
    "- Strings (são nada mais que uma lista de caracteres)\n",
    "- DataFrames do Pandas\n",
    "- Arrays do NumPy\n",
    "- Classes Iteráveis"
   ]
  },
  {
   "cell_type": "code",
   "execution_count": 7,
   "metadata": {},
   "outputs": [
    {
     "name": "stdout",
     "output_type": "stream",
     "text": [
      "\t Lista:\n",
      "1 carneirinhos\n",
      "2 carneirinhos\n",
      "3 carneirinhos\n",
      "4 carneirinhos\n",
      "5 carneirinhos\n",
      "\n",
      "\t Dicionário:\n",
      "nome => Professor Biruta\n",
      "idade => 77\n",
      "profissao => Professor\n",
      "\n",
      "\t String:\n",
      "H\n",
      "y\n",
      "p\n",
      "e\n"
     ]
    }
   ],
   "source": [
    "# Passamos uma lista\n",
    "print(\"\\t Lista:\")\n",
    "carneirinhos = [1, 2, 3, 4, 5]\n",
    "for carneiro in carneirinhos:\n",
    "    print(carneiro, \"carneirinhos\")\n",
    "\n",
    "\n",
    "# Passamos um dicionário\n",
    "print(\"\\n\\t Dicionário:\")\n",
    "biruta = {\n",
    "    \"nome\": \"Professor Biruta\",\n",
    "    \"idade\": 77,\n",
    "    \"profissao\": \"Professor\"\n",
    "}\n",
    "\n",
    "for chave, item in biruta.items():\n",
    "    print(chave, \"=>\", item)\n",
    "\n",
    "\n",
    "# Passamos uma string\n",
    "print(\"\\n\\t String:\")\n",
    "string = \"Hype\"\n",
    "for letra in string:\n",
    "    print(letra)"
   ]
  },
  {
   "cell_type": "markdown",
   "metadata": {},
   "source": [
    "Para ajudar a iterar com o \"for\", nós temos várias funções auxiliares que podem ajudar. \n",
    "\n",
    "A primera é a \"enumerate()\" que vai devolver um par (índice, valor) para todos os valores dentro de um iterável."
   ]
  },
  {
   "cell_type": "code",
   "execution_count": 9,
   "metadata": {},
   "outputs": [
    {
     "name": "stdout",
     "output_type": "stream",
     "text": [
      "Breno está no índice 0\n",
      "Enzo está no índice 1\n",
      "Igor está no índice 2\n",
      "Júlia está no índice 3\n"
     ]
    },
    {
     "data": {
      "text/plain": [
       "'Igor'"
      ]
     },
     "execution_count": 9,
     "metadata": {},
     "output_type": "execute_result"
    }
   ],
   "source": [
    "lista = [\"Breno\", \"Enzo\", \"Igor\", \"Júlia\"]\n",
    "for indice, nome in enumerate(lista):\n",
    "    print(f\"{nome} está no índice {indice}\")\n",
    "\n",
    "# E se formos confirmar:\n",
    "lista[2]"
   ]
  },
  {
   "cell_type": "markdown",
   "metadata": {},
   "source": [
    "A função \"zip()\", que como o nome diz, \"zipa\" duas listas juntas e retorna os elementos em um indíce específico juntos. Se elas forem de tamanhos diferentes, o zip() retorna com o número menor entre as duas."
   ]
  },
  {
   "cell_type": "code",
   "execution_count": 10,
   "metadata": {},
   "outputs": [
    {
     "name": "stdout",
     "output_type": "stream",
     "text": [
      "Breno gosta de Manga\n",
      "Enzo gosta de Banana\n",
      "Igor gosta de Laranja\n",
      "Júlia gosta de Maçã\n"
     ]
    }
   ],
   "source": [
    "lista = [\"Breno\", \"Enzo\", \"Igor\", \"Júlia\"]\n",
    "listaf = [\"Manga\", \"Banana\", \"Laranja\", \"Maçã\", \"Romã\", \"Pera\", \"Tomate\", \"Abacaxi\"]\n",
    "for nome, fruta in zip(lista, listaf):\n",
    "    print(f\"{nome} gosta de {fruta}\")"
   ]
  },
  {
   "cell_type": "markdown",
   "metadata": {},
   "source": [
    "A função reversed() faz o que o nome diz, pega um iterável e retorna ele de trás pra frente. Primeiro vira o último, e último vira o primeiro. "
   ]
  },
  {
   "cell_type": "code",
   "execution_count": 11,
   "metadata": {},
   "outputs": [
    {
     "name": "stdout",
     "output_type": "stream",
     "text": [
      "Júlia\n",
      "Igor\n",
      "Enzo\n",
      "Breno\n"
     ]
    }
   ],
   "source": [
    "lista = [\"Breno\", \"Enzo\", \"Igor\", \"Júlia\"]\n",
    "for last in reversed(lista):\n",
    "    print(last)"
   ]
  }
 ],
 "metadata": {
  "kernelspec": {
   "display_name": "Python 3",
   "language": "python",
   "name": "python3"
  },
  "language_info": {
   "codemirror_mode": {
    "name": "ipython",
    "version": 3
   },
   "file_extension": ".py",
   "mimetype": "text/x-python",
   "name": "python",
   "nbconvert_exporter": "python",
   "pygments_lexer": "ipython3",
   "version": "3.10.12"
  },
  "orig_nbformat": 4
 },
 "nbformat": 4,
 "nbformat_minor": 2
}
