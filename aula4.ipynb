{
 "cells": [
  {
   "cell_type": "markdown",
   "metadata": {},
   "source": [
    "# Parte X: Conceitos de Programação Funcional"
   ]
  },
  {
   "cell_type": "markdown",
   "metadata": {},
   "source": [
    "Lambdas (não o serviço da AWS) são nada mais, nada menos, do que funções que não tem nome, ou funções anônimas como você pode conhecê-las. Mas para que serve uma função que nem nome tem? \n",
    "\n",
    "Vamos pensar o seguinte: Eu quero criar um comparador de preços de um produto, mas não quero ficar fazendo o código toda hora que vou comparar usando uma métrica diferente. Então podemos criar uma função, e dentro dela pedir que o usuário mande uma função que vai definir como a gente vai comparar os produtos, assim ó:"
   ]
  },
  {
   "cell_type": "code",
   "execution_count": 1,
   "metadata": {},
   "outputs": [
    {
     "data": {
      "text/plain": [
       "27.2"
      ]
     },
     "execution_count": 1,
     "metadata": {},
     "output_type": "execute_result"
    }
   ],
   "source": [
    "# Vai fazer o nosso comparador retornar o menor preço\n",
    "def menor_preco(a, b):\n",
    "    return a < b\n",
    "\n",
    "# Vai fazer o nosso comparador retornar o maior preço\n",
    "def maior_preco(a, b):\n",
    "    return a > b\n",
    "\n",
    "# Comparador de preços\n",
    "def comparar_precos(precos, compara):\n",
    "    alvo = precos[0]\n",
    "    for preco in precos:\n",
    "        if not compara(alvo, preco):\n",
    "            alvo = preco\n",
    "\n",
    "    return alvo\n",
    "\n",
    "precos = [32.4, 34.7, 45.9, 27.2, 81.4]\n",
    "comparar_precos(precos, menor_preco)\n"
   ]
  },
  {
   "cell_type": "markdown",
   "metadata": {},
   "source": [
    "Funciona, mas é só uma linha de código que a gente usa pra comparar, é um despedício de tempo criar uma função só pra isso, então criamos um lambda! Uma vez que ela tem de retornar alguma expressão, ela é perfeita para esse trabalho."
   ]
  },
  {
   "cell_type": "code",
   "execution_count": 2,
   "metadata": {},
   "outputs": [
    {
     "name": "stdout",
     "output_type": "stream",
     "text": [
      "81.4\n"
     ]
    },
    {
     "data": {
      "text/plain": [
       "27.2"
      ]
     },
     "execution_count": 2,
     "metadata": {},
     "output_type": "execute_result"
    }
   ],
   "source": [
    "# Podemos colocar ela numa variável e repassar ela pra função\n",
    "lamb_maior = lambda a, b: a > b\n",
    "print(comparar_precos(precos, lamb_maior))\n",
    "\n",
    "# Ou passar direto pra função que criamos.\n",
    "comparar_precos(precos, lambda a, b: a < b)"
   ]
  }
 ],
 "metadata": {
  "kernelspec": {
   "display_name": "Python 3",
   "language": "python",
   "name": "python3"
  },
  "language_info": {
   "codemirror_mode": {
    "name": "ipython",
    "version": 3
   },
   "file_extension": ".py",
   "mimetype": "text/x-python",
   "name": "python",
   "nbconvert_exporter": "python",
   "pygments_lexer": "ipython3",
   "version": "3.10.12"
  },
  "orig_nbformat": 4
 },
 "nbformat": 4,
 "nbformat_minor": 2
}
