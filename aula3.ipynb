{
 "cells": [
  {
   "cell_type": "code",
   "execution_count": null,
   "metadata": {},
   "outputs": [],
   "source": [
    "import pacote\n",
    "from pacote.subpacote import funcao\n",
    "from pacote.subpacote.funcao import print_something as breno\n",
    "\n",
    "pacote.subpacote.funcao.print_something()\n",
    "funcao.print_something()\n",
    "breno()\n",
    "breno.__name__"
   ]
  }
 ],
 "metadata": {
  "language_info": {
   "name": "python"
  },
  "orig_nbformat": 4
 },
 "nbformat": 4,
 "nbformat_minor": 2
}
